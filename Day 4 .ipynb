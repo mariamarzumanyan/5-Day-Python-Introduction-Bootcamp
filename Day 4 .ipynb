{
 "cells": [
  {
   "cell_type": "markdown",
   "id": "455f8d05",
   "metadata": {},
   "source": [
    "# Day 4\n",
    "## \n",
    "## Mariam Arzumanyan"
   ]
  },
  {
   "cell_type": "code",
   "execution_count": 1,
   "id": "8cd91317",
   "metadata": {},
   "outputs": [
    {
     "data": {
      "text/plain": [
       "Timestamp('2023-02-14 17:14:13.761509')"
      ]
     },
     "execution_count": 1,
     "metadata": {},
     "output_type": "execute_result"
    }
   ],
   "source": [
    "# import modules\n",
    "import pandas as pd\n",
    "import seaborn as sns\n",
    "import matplotlib.pyplot as plt\n",
    "\n",
    "%matplotlib inline\n",
    "pd.options.mode.chained_assignment = None\n",
    "# gives timestamp of today's date at the time of cell execution\n",
    "today = pd.to_datetime('today')\n",
    "today "
   ]
  },
  {
   "cell_type": "markdown",
   "id": "45397f67",
   "metadata": {},
   "source": [
    "# Question 1: Examine and present the main characteristics of the data."
   ]
  },
  {
   "cell_type": "markdown",
   "id": "49ee4741",
   "metadata": {},
   "source": [
    "### Import and clean the data"
   ]
  },
  {
   "cell_type": "code",
   "execution_count": 2,
   "id": "85697523",
   "metadata": {},
   "outputs": [],
   "source": [
    "X=pd.read_csv('C:\\\\Users\\\\arzum\\\\Downloads\\\\X.csv',index_col=[0], low_memory=False)\n",
    "Y=pd.read_csv('C:\\\\Users\\\\arzum\\\\Downloads\\\\Y.csv',index_col=[0], low_memory=False, header=None)"
   ]
  },
  {
   "cell_type": "code",
   "execution_count": 3,
   "id": "c794523e",
   "metadata": {},
   "outputs": [
    {
     "name": "stdout",
     "output_type": "stream",
     "text": [
      "<class 'pandas.core.frame.DataFrame'>\n",
      "Int64Index: 10000 entries, 0 to 9999\n",
      "Data columns (total 5 columns):\n",
      " #   Column  Non-Null Count  Dtype  \n",
      "---  ------  --------------  -----  \n",
      " 0   0       9998 non-null   float64\n",
      " 1   1       9997 non-null   float64\n",
      " 2   2       9999 non-null   float64\n",
      " 3   3       9999 non-null   float64\n",
      " 4   4       9989 non-null   float64\n",
      "dtypes: float64(5)\n",
      "memory usage: 468.8 KB\n"
     ]
    }
   ],
   "source": [
    "X.info()"
   ]
  },
  {
   "cell_type": "code",
   "execution_count": 4,
   "id": "e93050a7",
   "metadata": {},
   "outputs": [
    {
     "name": "stdout",
     "output_type": "stream",
     "text": [
      "<class 'pandas.core.frame.DataFrame'>\n",
      "Int64Index: 10000 entries, 0 to 9999\n",
      "Data columns (total 1 columns):\n",
      " #   Column  Non-Null Count  Dtype  \n",
      "---  ------  --------------  -----  \n",
      " 0   1       10000 non-null  float64\n",
      "dtypes: float64(1)\n",
      "memory usage: 156.2 KB\n"
     ]
    }
   ],
   "source": [
    "Y.info()"
   ]
  },
  {
   "cell_type": "markdown",
   "id": "b5d3188d",
   "metadata": {},
   "source": [
    "#### At first glance, it can be noticed that variables in X have missing values, and X has one less entry than Y. This needs to be dealt with before proceeding. All missing values will be filled with the column's average, and another row will be added to vector X, which is again the column's average. All duplicate values should be dropped, but in this case there are none."
   ]
  },
  {
   "cell_type": "code",
   "execution_count": 5,
   "id": "b1dbc603",
   "metadata": {},
   "outputs": [],
   "source": [
    "# dropping all duplicate values\n",
    "X.drop_duplicates(inplace=True)"
   ]
  },
  {
   "cell_type": "code",
   "execution_count": 6,
   "id": "95bbe997",
   "metadata": {},
   "outputs": [],
   "source": [
    "X['0'].loc[10000]= X['0'].mean()\n",
    "X['1'].loc[10000]= X['1'].mean()\n",
    "X['2'].loc[10000]= X['2'].mean()\n",
    "X['3'].loc[10000]= X['3'].mean()\n",
    "X['4'].loc[10000]= X['4'].mean()"
   ]
  },
  {
   "cell_type": "code",
   "execution_count": 7,
   "id": "604ead6e",
   "metadata": {},
   "outputs": [
    {
     "name": "stdout",
     "output_type": "stream",
     "text": [
      "Number of missing values in the first column: 0\n",
      "Number of missing values in the second column: 0\n",
      "Number of missing values in the third column: 0\n",
      "Number of missing values in the fourth column: 0\n",
      "Number of missing values in the fifth column: 0\n",
      "Number of missing values in the Y: 0\n"
     ]
    }
   ],
   "source": [
    "X['0'].fillna(X['0'].mean(), inplace=True)\n",
    "print('Number of missing values in the first column:', X['0'].isna().sum())\n",
    "X['1'].fillna(X['1'].mean(), inplace=True)\n",
    "print('Number of missing values in the second column:', X['1'].isna().sum())\n",
    "X['2'].fillna(X['2'].mean(), inplace=True)\n",
    "print('Number of missing values in the third column:', X['2'].isna().sum())\n",
    "X['3'].fillna(X['3'].mean(), inplace=True)\n",
    "print('Number of missing values in the fourth column:', X['3'].isna().sum())\n",
    "X['4'].fillna(X['4'].mean(), inplace=True)\n",
    "print('Number of missing values in the fifth column:',X['4'].isna().sum())\n",
    "print('Number of missing values in the Y:',Y[1].isna().sum())"
   ]
  },
  {
   "cell_type": "markdown",
   "id": "b2766e49",
   "metadata": {},
   "source": [
    "#### The summary statistics of the data."
   ]
  },
  {
   "cell_type": "code",
   "execution_count": 8,
   "id": "5bdc9fe1",
   "metadata": {},
   "outputs": [
    {
     "name": "stdout",
     "output_type": "stream",
     "text": [
      "                  0             1             2             3             4\n",
      "count  10000.000000  10000.000000  10000.000000  10000.000000  10000.000000\n",
      "mean       1.019668      0.049666      0.105662      0.336831      1.039732\n",
      "std      100.036322      5.459886     10.024118     59.780242      2.128940\n",
      "min       -7.654205    -19.706080     -3.726699  -3001.334527     -7.265781\n",
      "25%       -1.303321     -3.630220     -0.597153     -3.907858     -0.402370\n",
      "50%        0.012648      0.049666      0.008189      0.050970      1.032799\n",
      "75%        1.359666      3.699497      0.613171      4.135878      2.474292\n",
      "max    10001.660383     19.256933    998.329754   5134.656375      9.896021\n"
     ]
    }
   ],
   "source": [
    "print(X.describe())"
   ]
  },
  {
   "cell_type": "code",
   "execution_count": 9,
   "id": "1bc154f0",
   "metadata": {},
   "outputs": [
    {
     "name": "stdout",
     "output_type": "stream",
     "text": [
      "                  1\n",
      "count  10000.000000\n",
      "mean       1.183616\n",
      "std       54.743893\n",
      "min     -712.340073\n",
      "25%      -17.473542\n",
      "50%        1.943772\n",
      "75%       21.275091\n",
      "max      681.761316\n"
     ]
    }
   ],
   "source": [
    "print(Y.describe())"
   ]
  },
  {
   "cell_type": "markdown",
   "id": "e8c2a33f",
   "metadata": {},
   "source": [
    "### Initial examination of the data. Plotting histograms to see the distribution of the data, whether there are outliers. "
   ]
  },
  {
   "cell_type": "code",
   "execution_count": 10,
   "id": "950aaf09",
   "metadata": {},
   "outputs": [
    {
     "data": {
      "image/png": "[encoded data removed]",
      "text/plain": [
       "<Figure size 432x288 with 1 Axes>"
      ]
     },
     "metadata": {
      "needs_background": "light"
     },
     "output_type": "display_data"
    }
   ],
   "source": [
    "plt.hist(Y)\n",
    "plt.show()"
   ]
  },
  {
   "cell_type": "code",
   "execution_count": 11,
   "id": "f1bedade",
   "metadata": {},
   "outputs": [
    {
     "data": {
      "image/png": "[encoded data removed]",
      "text/plain": [
       "<Figure size 432x288 with 1 Axes>"
      ]
     },
     "metadata": {
      "needs_background": "light"
     },
     "output_type": "display_data"
    }
   ],
   "source": [
    "plt.hist(X['0'], bins=170)\n",
    "plt.show()"
   ]
  },
  {
   "cell_type": "code",
   "execution_count": 12,
   "id": "4045389b",
   "metadata": {},
   "outputs": [
    {
     "data": {
      "image/png": "[encoded data removed]",
      "text/plain": [
       "<Figure size 432x288 with 1 Axes>"
      ]
     },
     "metadata": {
      "needs_background": "light"
     },
     "output_type": "display_data"
    }
   ],
   "source": [
    "plt.hist(X['1'], bins=170)\n",
    "plt.show()"
   ]
  },
  {
   "cell_type": "code",
   "execution_count": 13,
   "id": "4b4461aa",
   "metadata": {},
   "outputs": [
    {
     "data": {
      "image/png": "[encoded data removed]",
      "text/plain": [
       "<Figure size 432x288 with 1 Axes>"
      ]
     },
     "metadata": {
      "needs_background": "light"
     },
     "output_type": "display_data"
    }
   ],
   "source": [
    "plt.hist(X['2'], bins=170)\n",
    "plt.show()"
   ]
  },
  {
   "cell_type": "code",
   "execution_count": 14,
   "id": "c7f7794e",
   "metadata": {},
   "outputs": [
    {
     "data": {
      "image/png": "[encoded data removed]",
      "text/plain": [
       "<Figure size 432x288 with 1 Axes>"
      ]
     },
     "metadata": {
      "needs_background": "light"
     },
     "output_type": "display_data"
    }
   ],
   "source": [
    "plt.hist(X['3'], bins=170)\n",
    "plt.show()"
   ]
  },
  {
   "cell_type": "code",
   "execution_count": 15,
   "id": "8cc274b4",
   "metadata": {},
   "outputs": [
    {
     "data": {
      "image/png": "[encoded data removed]",
      "text/plain": [
       "<Figure size 432x288 with 1 Axes>"
      ]
     },
     "metadata": {
      "needs_background": "light"
     },
     "output_type": "display_data"
    }
   ],
   "source": [
    "plt.hist(X['4'], bins=170)\n",
    "plt.show()"
   ]
  },
  {
   "cell_type": "code",
   "execution_count": 16,
   "id": "cff42d72",
   "metadata": {},
   "outputs": [
    {
     "data": {
      "image/png": "[encoded data removed]",
      "text/plain": [
       "<Figure size 432x288 with 1 Axes>"
      ]
     },
     "metadata": {
      "needs_background": "light"
     },
     "output_type": "display_data"
    }
   ],
   "source": [
    "plt.scatter(X['0'],Y)\n",
    "plt.xlabel('X0')\n",
    "plt.ylabel('Y')\n",
    "plt.show()"
   ]
  },
  {
   "cell_type": "code",
   "execution_count": 17,
   "id": "3b7c2720",
   "metadata": {},
   "outputs": [
    {
     "data": {
      "image/png": "[encoded data removed]",
      "text/plain": [
       "<Figure size 432x288 with 1 Axes>"
      ]
     },
     "metadata": {
      "needs_background": "light"
     },
     "output_type": "display_data"
    }
   ],
   "source": [
    "plt.scatter(X['1'],Y)\n",
    "plt.xlabel('X1')\n",
    "plt.ylabel('Y')\n",
    "plt.show()"
   ]
  },
  {
   "cell_type": "code",
   "execution_count": 18,
   "id": "7a3c428f",
   "metadata": {},
   "outputs": [
    {
     "data": {
      "image/png": "[encoded data removed]",
      "text/plain": [
       "<Figure size 432x288 with 1 Axes>"
      ]
     },
     "metadata": {
      "needs_background": "light"
     },
     "output_type": "display_data"
    }
   ],
   "source": [
    "plt.scatter(X['2'],Y)\n",
    "plt.xlabel('X2')\n",
    "plt.ylabel('Y')\n",
    "plt.show()"
   ]
  },
  {
   "cell_type": "code",
   "execution_count": 19,
   "id": "dd4deba8",
   "metadata": {},
   "outputs": [
    {
     "data": {
      "image/png": "[encoded data removed]",
      "text/plain": [
       "<Figure size 432x288 with 1 Axes>"
      ]
     },
     "metadata": {
      "needs_background": "light"
     },
     "output_type": "display_data"
    }
   ],
   "source": [
    "plt.scatter(X['3'],Y)\n",
    "plt.xlabel('X3')\n",
    "plt.ylabel('Y')\n",
    "plt.show()"
   ]
  },
  {
   "cell_type": "code",
   "execution_count": 20,
   "id": "4655c405",
   "metadata": {},
   "outputs": [
    {
     "data": {
      "image/png": "[encoded data removed]",
      "text/plain": [
       "<Figure size 432x288 with 1 Axes>"
      ]
     },
     "metadata": {
      "needs_background": "light"
     },
     "output_type": "display_data"
    }
   ],
   "source": [
    "plt.scatter(X['4'],Y)\n",
    "plt.xlabel('X4')\n",
    "plt.ylabel('Y')\n",
    "plt.show()"
   ]
  },
  {
   "cell_type": "markdown",
   "id": "c523bbef",
   "metadata": {},
   "source": [
    "#### First, third, and fourth columns have outliers. They need to be inspected and removed."
   ]
  },
  {
   "cell_type": "code",
   "execution_count": 21,
   "id": "a576fc3b",
   "metadata": {},
   "outputs": [
    {
     "data": {
      "text/plain": [
       "Int64Index([2315], dtype='int64')"
      ]
     },
     "execution_count": 21,
     "metadata": {},
     "output_type": "execute_result"
    }
   ],
   "source": [
    "#Find the outlier's index, and replace with the average. \n",
    "index_0 = X[X['0']==X['0'].max()].index\n",
    "# Make sure unique element\n",
    "index_0"
   ]
  },
  {
   "cell_type": "code",
   "execution_count": 22,
   "id": "27c6da6f",
   "metadata": {},
   "outputs": [],
   "source": [
    "X['0'].loc[index_0]=X['0'].mean()"
   ]
  },
  {
   "cell_type": "code",
   "execution_count": 23,
   "id": "b001cd9a",
   "metadata": {},
   "outputs": [
    {
     "data": {
      "image/png": "[encoded data removed]",
      "text/plain": [
       "<Figure size 432x288 with 1 Axes>"
      ]
     },
     "metadata": {
      "needs_background": "light"
     },
     "output_type": "display_data"
    }
   ],
   "source": [
    "#Check the scatter plot again.\n",
    "plt.scatter(X['0'],Y)\n",
    "plt.xlabel('X0')\n",
    "plt.ylabel('Y')\n",
    "plt.show()"
   ]
  },
  {
   "cell_type": "code",
   "execution_count": 24,
   "id": "e94447a2",
   "metadata": {},
   "outputs": [
    {
     "data": {
      "text/plain": [
       "Int64Index([19], dtype='int64')"
      ]
     },
     "execution_count": 24,
     "metadata": {},
     "output_type": "execute_result"
    }
   ],
   "source": [
    "#Find the outlier's index, and replace with the average. \n",
    "index_2 = X[X['2']==X['2'].max()].index\n",
    "# Make sure unique element\n",
    "index_2"
   ]
  },
  {
   "cell_type": "code",
   "execution_count": 25,
   "id": "85191b4b",
   "metadata": {},
   "outputs": [],
   "source": [
    "X['2'].loc[index_2]=X['2'].mean()"
   ]
  },
  {
   "cell_type": "code",
   "execution_count": 26,
   "id": "2ef4f683",
   "metadata": {},
   "outputs": [
    {
     "data": {
      "image/png": "[encoded data removed]",
      "text/plain": [
       "<Figure size 432x288 with 1 Axes>"
      ]
     },
     "metadata": {
      "needs_background": "light"
     },
     "output_type": "display_data"
    }
   ],
   "source": [
    "#Check the scatter plot again.\n",
    "plt.scatter(X['2'],Y)\n",
    "plt.xlabel('X2')\n",
    "plt.ylabel('Y')\n",
    "plt.show()"
   ]
  },
  {
   "cell_type": "code",
   "execution_count": 27,
   "id": "ea8ce689",
   "metadata": {},
   "outputs": [
    {
     "data": {
      "text/plain": [
       "Int64Index([7321], dtype='int64')"
      ]
     },
     "execution_count": 27,
     "metadata": {},
     "output_type": "execute_result"
    }
   ],
   "source": [
    "#Find the outlier's index, and replace with the average. \n",
    "index_3 = X[X['3']==X['3'].max()].index\n",
    "# Make sure unique element\n",
    "index_3"
   ]
  },
  {
   "cell_type": "code",
   "execution_count": 28,
   "id": "4ffd5b03",
   "metadata": {},
   "outputs": [],
   "source": [
    "X['3'].loc[index_3]=X['3'].mean()"
   ]
  },
  {
   "cell_type": "code",
   "execution_count": 29,
   "id": "d0450d77",
   "metadata": {},
   "outputs": [
    {
     "data": {
      "image/png": "[encoded data removed]",
      "text/plain": [
       "<Figure size 432x288 with 1 Axes>"
      ]
     },
     "metadata": {
      "needs_background": "light"
     },
     "output_type": "display_data"
    }
   ],
   "source": [
    "#Check the scatter plot again.\n",
    "plt.scatter(X['3'],Y)\n",
    "plt.xlabel('X3')\n",
    "plt.ylabel('Y')\n",
    "plt.show()"
   ]
  },
  {
   "cell_type": "code",
   "execution_count": 30,
   "id": "eafcb4d5",
   "metadata": {},
   "outputs": [
    {
     "data": {
      "text/plain": [
       "Int64Index([7853], dtype='int64')"
      ]
     },
     "execution_count": 30,
     "metadata": {},
     "output_type": "execute_result"
    }
   ],
   "source": [
    "# For this particular variable, there is a minimum outlier. Repeat the same procedure with the minimum.\n",
    "#Find the outlier's index, and replace with the average. \n",
    "index_3 = X[X['3']==X['3'].min()].index\n",
    "# Make sure unique element\n",
    "index_3"
   ]
  },
  {
   "cell_type": "code",
   "execution_count": 31,
   "id": "f411fc6d",
   "metadata": {},
   "outputs": [],
   "source": [
    "X['3'].loc[index_3]=X['3'].mean()"
   ]
  },
  {
   "cell_type": "code",
   "execution_count": 32,
   "id": "311919e3",
   "metadata": {},
   "outputs": [
    {
     "data": {
      "image/png": "[encoded data removed]",
      "text/plain": [
       "<Figure size 432x288 with 1 Axes>"
      ]
     },
     "metadata": {
      "needs_background": "light"
     },
     "output_type": "display_data"
    }
   ],
   "source": [
    "#Check the scatter plot again.\n",
    "plt.scatter(X['3'],Y)\n",
    "plt.xlabel('X3')\n",
    "plt.ylabel('Y')\n",
    "plt.show()"
   ]
  },
  {
   "cell_type": "markdown",
   "id": "cfb10100",
   "metadata": {},
   "source": [
    "### Next, we want to inspect the covariance and correlation between independent variables."
   ]
  },
  {
   "cell_type": "code",
   "execution_count": 33,
   "id": "01063215",
   "metadata": {},
   "outputs": [
    {
     "data": {
      "text/html": [
       "<div>\n",
       "<style scoped>\n",
       "    .dataframe tbody tr th:only-of-type {\n",
       "        vertical-align: middle;\n",
       "    }\n",
       "\n",
       "    .dataframe tbody tr th {\n",
       "        vertical-align: top;\n",
       "    }\n",
       "\n",
       "    .dataframe thead th {\n",
       "        text-align: right;\n",
       "    }\n",
       "</style>\n",
       "<table border=\"1\" class=\"dataframe\">\n",
       "  <thead>\n",
       "    <tr style=\"text-align: right;\">\n",
       "      <th></th>\n",
       "      <th>0</th>\n",
       "      <th>1</th>\n",
       "      <th>2</th>\n",
       "      <th>3</th>\n",
       "      <th>4</th>\n",
       "    </tr>\n",
       "  </thead>\n",
       "  <tbody>\n",
       "    <tr>\n",
       "      <th>0</th>\n",
       "      <td>3.983705</td>\n",
       "      <td>-3.266147</td>\n",
       "      <td>0.353937</td>\n",
       "      <td>3.477695</td>\n",
       "      <td>-0.759306</td>\n",
       "    </tr>\n",
       "    <tr>\n",
       "      <th>1</th>\n",
       "      <td>-3.266147</td>\n",
       "      <td>29.810357</td>\n",
       "      <td>1.966340</td>\n",
       "      <td>6.415188</td>\n",
       "      <td>10.305376</td>\n",
       "    </tr>\n",
       "    <tr>\n",
       "      <th>2</th>\n",
       "      <td>0.353937</td>\n",
       "      <td>1.966340</td>\n",
       "      <td>0.817880</td>\n",
       "      <td>1.560531</td>\n",
       "      <td>1.154070</td>\n",
       "    </tr>\n",
       "    <tr>\n",
       "      <th>3</th>\n",
       "      <td>3.477695</td>\n",
       "      <td>6.415188</td>\n",
       "      <td>1.560531</td>\n",
       "      <td>36.151271</td>\n",
       "      <td>2.972742</td>\n",
       "    </tr>\n",
       "    <tr>\n",
       "      <th>4</th>\n",
       "      <td>-0.759306</td>\n",
       "      <td>10.305376</td>\n",
       "      <td>1.154070</td>\n",
       "      <td>2.972742</td>\n",
       "      <td>4.532387</td>\n",
       "    </tr>\n",
       "  </tbody>\n",
       "</table>\n",
       "</div>"
      ],
      "text/plain": [
       "          0          1         2          3          4\n",
       "0  3.983705  -3.266147  0.353937   3.477695  -0.759306\n",
       "1 -3.266147  29.810357  1.966340   6.415188  10.305376\n",
       "2  0.353937   1.966340  0.817880   1.560531   1.154070\n",
       "3  3.477695   6.415188  1.560531  36.151271   2.972742\n",
       "4 -0.759306  10.305376  1.154070   2.972742   4.532387"
      ]
     },
     "execution_count": 33,
     "metadata": {},
     "output_type": "execute_result"
    }
   ],
   "source": [
    "cov_matrix=pd.DataFrame.cov(X)\n",
    "cov_matrix"
   ]
  },
  {
   "cell_type": "code",
   "execution_count": 34,
   "id": "54b1c860",
   "metadata": {},
   "outputs": [
    {
     "data": {
      "text/html": [
       "<div>\n",
       "<style scoped>\n",
       "    .dataframe tbody tr th:only-of-type {\n",
       "        vertical-align: middle;\n",
       "    }\n",
       "\n",
       "    .dataframe tbody tr th {\n",
       "        vertical-align: top;\n",
       "    }\n",
       "\n",
       "    .dataframe thead th {\n",
       "        text-align: right;\n",
       "    }\n",
       "</style>\n",
       "<table border=\"1\" class=\"dataframe\">\n",
       "  <thead>\n",
       "    <tr style=\"text-align: right;\">\n",
       "      <th></th>\n",
       "      <th>0</th>\n",
       "      <th>1</th>\n",
       "      <th>2</th>\n",
       "      <th>3</th>\n",
       "      <th>4</th>\n",
       "    </tr>\n",
       "  </thead>\n",
       "  <tbody>\n",
       "    <tr>\n",
       "      <th>0</th>\n",
       "      <td>1.000000</td>\n",
       "      <td>-0.299715</td>\n",
       "      <td>0.196082</td>\n",
       "      <td>0.289792</td>\n",
       "      <td>-0.178694</td>\n",
       "    </tr>\n",
       "    <tr>\n",
       "      <th>1</th>\n",
       "      <td>-0.299715</td>\n",
       "      <td>1.000000</td>\n",
       "      <td>0.398227</td>\n",
       "      <td>0.195418</td>\n",
       "      <td>0.886578</td>\n",
       "    </tr>\n",
       "    <tr>\n",
       "      <th>2</th>\n",
       "      <td>0.196082</td>\n",
       "      <td>0.398227</td>\n",
       "      <td>1.000000</td>\n",
       "      <td>0.286989</td>\n",
       "      <td>0.599410</td>\n",
       "    </tr>\n",
       "    <tr>\n",
       "      <th>3</th>\n",
       "      <td>0.289792</td>\n",
       "      <td>0.195418</td>\n",
       "      <td>0.286989</td>\n",
       "      <td>1.000000</td>\n",
       "      <td>0.232237</td>\n",
       "    </tr>\n",
       "    <tr>\n",
       "      <th>4</th>\n",
       "      <td>-0.178694</td>\n",
       "      <td>0.886578</td>\n",
       "      <td>0.599410</td>\n",
       "      <td>0.232237</td>\n",
       "      <td>1.000000</td>\n",
       "    </tr>\n",
       "  </tbody>\n",
       "</table>\n",
       "</div>"
      ],
      "text/plain": [
       "          0         1         2         3         4\n",
       "0  1.000000 -0.299715  0.196082  0.289792 -0.178694\n",
       "1 -0.299715  1.000000  0.398227  0.195418  0.886578\n",
       "2  0.196082  0.398227  1.000000  0.286989  0.599410\n",
       "3  0.289792  0.195418  0.286989  1.000000  0.232237\n",
       "4 -0.178694  0.886578  0.599410  0.232237  1.000000"
      ]
     },
     "execution_count": 34,
     "metadata": {},
     "output_type": "execute_result"
    }
   ],
   "source": [
    "corr_matrix=pd.DataFrame.corr(X)\n",
    "corr_matrix"
   ]
  },
  {
   "cell_type": "code",
   "execution_count": 35,
   "id": "dc2bf2b5",
   "metadata": {},
   "outputs": [
    {
     "data": {
      "text/html": [
       "<div>\n",
       "<style scoped>\n",
       "    .dataframe tbody tr th:only-of-type {\n",
       "        vertical-align: middle;\n",
       "    }\n",
       "\n",
       "    .dataframe tbody tr th {\n",
       "        vertical-align: top;\n",
       "    }\n",
       "\n",
       "    .dataframe thead th {\n",
       "        text-align: right;\n",
       "    }\n",
       "</style>\n",
       "<table border=\"1\" class=\"dataframe\">\n",
       "  <thead>\n",
       "    <tr style=\"text-align: right;\">\n",
       "      <th></th>\n",
       "      <th>0</th>\n",
       "      <th>1</th>\n",
       "      <th>2</th>\n",
       "      <th>3</th>\n",
       "      <th>4</th>\n",
       "    </tr>\n",
       "  </thead>\n",
       "  <tbody>\n",
       "    <tr>\n",
       "      <th>0</th>\n",
       "      <td>1.000000</td>\n",
       "      <td>-0.299715</td>\n",
       "      <td>0.196082</td>\n",
       "      <td>0.289792</td>\n",
       "      <td>-0.178694</td>\n",
       "    </tr>\n",
       "    <tr>\n",
       "      <th>1</th>\n",
       "      <td>-0.299715</td>\n",
       "      <td>1.000000</td>\n",
       "      <td>0.398227</td>\n",
       "      <td>0.195418</td>\n",
       "      <td>0.886578</td>\n",
       "    </tr>\n",
       "    <tr>\n",
       "      <th>2</th>\n",
       "      <td>0.196082</td>\n",
       "      <td>0.398227</td>\n",
       "      <td>1.000000</td>\n",
       "      <td>0.286989</td>\n",
       "      <td>0.599410</td>\n",
       "    </tr>\n",
       "    <tr>\n",
       "      <th>3</th>\n",
       "      <td>0.289792</td>\n",
       "      <td>0.195418</td>\n",
       "      <td>0.286989</td>\n",
       "      <td>1.000000</td>\n",
       "      <td>0.232237</td>\n",
       "    </tr>\n",
       "    <tr>\n",
       "      <th>4</th>\n",
       "      <td>-0.178694</td>\n",
       "      <td>0.886578</td>\n",
       "      <td>0.599410</td>\n",
       "      <td>0.232237</td>\n",
       "      <td>1.000000</td>\n",
       "    </tr>\n",
       "  </tbody>\n",
       "</table>\n",
       "</div>"
      ],
      "text/plain": [
       "          0         1         2         3         4\n",
       "0  1.000000 -0.299715  0.196082  0.289792 -0.178694\n",
       "1 -0.299715  1.000000  0.398227  0.195418  0.886578\n",
       "2  0.196082  0.398227  1.000000  0.286989  0.599410\n",
       "3  0.289792  0.195418  0.286989  1.000000  0.232237\n",
       "4 -0.178694  0.886578  0.599410  0.232237  1.000000"
      ]
     },
     "execution_count": 35,
     "metadata": {},
     "output_type": "execute_result"
    }
   ],
   "source": [
    "corr_matrix=pd.DataFrame.corr(X)\n",
    "corr_matrix"
   ]
  },
  {
   "cell_type": "markdown",
   "id": "b5df70f0",
   "metadata": {},
   "source": [
    "### The second and the last columns are correlated. This raises a potential issue of multicollinearity."
   ]
  },
  {
   "cell_type": "code",
   "execution_count": 36,
   "id": "584d3f30",
   "metadata": {},
   "outputs": [
    {
     "data": {
      "image/png": "[encoded data removed]",
      "text/plain": [
       "<Figure size 432x288 with 1 Axes>"
      ]
     },
     "metadata": {
      "needs_background": "light"
     },
     "output_type": "display_data"
    }
   ],
   "source": [
    "#Check the scatter plot for collinearity between columns 1 and 4.\n",
    "plt.scatter(X['1'],X['4'])\n",
    "plt.xlabel('X1')\n",
    "plt.ylabel('X4')\n",
    "plt.show()"
   ]
  },
  {
   "cell_type": "code",
   "execution_count": 37,
   "id": "ced1267c",
   "metadata": {},
   "outputs": [
    {
     "name": "stdout",
     "output_type": "stream",
     "text": [
      "                                 OLS Regression Results                                \n",
      "=======================================================================================\n",
      "Dep. Variable:                      1   R-squared (uncentered):                   0.641\n",
      "Model:                            OLS   Adj. R-squared (uncentered):              0.641\n",
      "Method:                 Least Squares   F-statistic:                          1.785e+04\n",
      "Date:                Tue, 14 Feb 2023   Prob (F-statistic):                        0.00\n",
      "Time:                        17:14:18   Log-Likelihood:                         -26042.\n",
      "No. Observations:               10000   AIC:                                  5.209e+04\n",
      "Df Residuals:                    9999   BIC:                                  5.209e+04\n",
      "Df Model:                           1                                                  \n",
      "Covariance Type:            nonrobust                                                  \n",
      "==============================================================================\n",
      "                 coef    std err          t      P>|t|      [0.025      0.975]\n",
      "------------------------------------------------------------------------------\n",
      "4              1.8450      0.014    133.604      0.000       1.818       1.872\n",
      "==============================================================================\n",
      "Omnibus:                        1.934   Durbin-Watson:                   1.338\n",
      "Prob(Omnibus):                  0.380   Jarque-Bera (JB):                1.928\n",
      "Skew:                          -0.016   Prob(JB):                        0.381\n",
      "Kurtosis:                       3.060   Cond. No.                         1.00\n",
      "==============================================================================\n",
      "\n",
      "Notes:\n",
      "[1] R² is computed without centering (uncentered) since the model does not contain a constant.\n",
      "[2] Standard Errors assume that the covariance matrix of the errors is correctly specified.\n"
     ]
    }
   ],
   "source": [
    "import statsmodels.api as sm\n",
    "regressor_OLS = sm.OLS(endog = X['1'], exog = X['4']).fit()\n",
    "print(regressor_OLS.summary())\n"
   ]
  },
  {
   "cell_type": "markdown",
   "id": "57aa126a",
   "metadata": {},
   "source": [
    "### The second and fourth columns are positively correlated by a coefficient of 1.85."
   ]
  },
  {
   "cell_type": "markdown",
   "id": "d692ec7f",
   "metadata": {},
   "source": [
    "## Forecasting Model \n"
   ]
  },
  {
   "cell_type": "markdown",
   "id": "886afeab",
   "metadata": {},
   "source": [
    "## 2. Propose a forecasting model for Y using the variables in X and explain its properties."
   ]
  },
  {
   "cell_type": "code",
   "execution_count": 38,
   "id": "a57fbe95",
   "metadata": {},
   "outputs": [],
   "source": [
    "from sklearn.linear_model import LinearRegression\n",
    "from sklearn.linear_model import Ridge\n",
    "from sklearn.linear_model import Lasso\n",
    "from sklearn.linear_model import ElasticNet\n",
    "from sklearn.metrics import f1_score\n",
    "from sklearn.model_selection import train_test_split\n",
    "from sklearn.model_selection import cross_validate\n",
    "from sklearn.model_selection import cross_val_score\n",
    "from sklearn.metrics import r2_score\n",
    "from sklearn.metrics import explained_variance_score"
   ]
  },
  {
   "cell_type": "markdown",
   "id": "eff757c9",
   "metadata": {},
   "source": [
    "#### Split the data into train and test to measure the model performance."
   ]
  },
  {
   "cell_type": "code",
   "execution_count": 39,
   "id": "dd902a12",
   "metadata": {},
   "outputs": [
    {
     "data": {
      "text/plain": [
       "(2000,)"
      ]
     },
     "execution_count": 39,
     "metadata": {},
     "output_type": "execute_result"
    }
   ],
   "source": [
    "# For the Y variable, make sure it is an array of the form (n,). \n",
    "X_train, X_test, y_train, y_test=train_test_split(X, Y[1], test_size=0.8)\n",
    "y_train.shape"
   ]
  },
  {
   "cell_type": "code",
   "execution_count": 40,
   "id": "9071e309",
   "metadata": {},
   "outputs": [
    {
     "name": "stdout",
     "output_type": "stream",
     "text": [
      "                                 OLS Regression Results                                \n",
      "=======================================================================================\n",
      "Dep. Variable:                      1   R-squared (uncentered):                   0.042\n",
      "Model:                            OLS   Adj. R-squared (uncentered):              0.040\n",
      "Method:                 Least Squares   F-statistic:                              17.70\n",
      "Date:                Tue, 14 Feb 2023   Prob (F-statistic):                    3.36e-17\n",
      "Time:                        17:14:19   Log-Likelihood:                         -10775.\n",
      "No. Observations:                2000   AIC:                                  2.156e+04\n",
      "Df Residuals:                    1995   BIC:                                  2.159e+04\n",
      "Df Model:                           5                                                  \n",
      "Covariance Type:            nonrobust                                                  \n",
      "==============================================================================\n",
      "                 coef    std err          t      P>|t|      [0.025      0.975]\n",
      "------------------------------------------------------------------------------\n",
      "0              2.2677      0.699      3.244      0.001       0.897       3.639\n",
      "1              1.4685      0.391      3.760      0.000       0.703       2.234\n",
      "2             -2.8000      1.665     -1.682      0.093      -6.065       0.465\n",
      "3             -1.6763      0.213     -7.855      0.000      -2.095      -1.258\n",
      "4              0.8170      0.931      0.878      0.380      -1.008       2.643\n",
      "==============================================================================\n",
      "Omnibus:                      869.417   Durbin-Watson:                   2.007\n",
      "Prob(Omnibus):                  0.000   Jarque-Bera (JB):            34608.212\n",
      "Skew:                          -1.343   Prob(JB):                         0.00\n",
      "Kurtosis:                      23.201   Cond. No.                         9.35\n",
      "==============================================================================\n",
      "\n",
      "Notes:\n",
      "[1] R² is computed without centering (uncentered) since the model does not contain a constant.\n",
      "[2] Standard Errors assume that the covariance matrix of the errors is correctly specified.\n"
     ]
    }
   ],
   "source": [
    "import statsmodels.api as sm\n",
    "regressor_OLS = sm.OLS(endog = y_train, exog = X_train).fit()\n",
    "print(regressor_OLS.summary())"
   ]
  },
  {
   "cell_type": "code",
   "execution_count": 41,
   "id": "d94b3014",
   "metadata": {},
   "outputs": [
    {
     "name": "stdout",
     "output_type": "stream",
     "text": [
      "[ 2.26378015  1.55203126 -2.59497703 -1.67819071  0.54147552]\n"
     ]
    }
   ],
   "source": [
    "# Fit the regressor using the training data\n",
    "reg = LinearRegression()\n",
    "reg.fit(X_train, y_train)\n",
    "print(reg.coef_)\n"
   ]
  },
  {
   "cell_type": "code",
   "execution_count": 42,
   "id": "1adc06f6",
   "metadata": {},
   "outputs": [
    {
     "name": "stdout",
     "output_type": "stream",
     "text": [
      "0.037138066460696284\n",
      "0.037174884866970626\n"
     ]
    }
   ],
   "source": [
    "y_pred=reg.predict(X_test)\n",
    "print(r2_score(y_test, y_pred))\n",
    "print(explained_variance_score(y_test, y_pred))"
   ]
  },
  {
   "cell_type": "markdown",
   "id": "ac6a38be",
   "metadata": {},
   "source": [
    "### Based on the $R^2$ score, it can be seen that the linear model is not very good at predicting this data."
   ]
  },
  {
   "cell_type": "markdown",
   "id": "68ae592d",
   "metadata": {},
   "source": [
    "### Similarly, we can check the cross-validation results."
   ]
  },
  {
   "cell_type": "code",
   "execution_count": 43,
   "id": "92e6e9bf",
   "metadata": {},
   "outputs": [
    {
     "name": "stdout",
     "output_type": "stream",
     "text": [
      "[0.016784   0.04948039 0.03467022 0.05052653 0.02885316]\n"
     ]
    }
   ],
   "source": [
    "cv=cross_val_score(reg, X, Y[1],cv=5)\n",
    "print(cv)"
   ]
  },
  {
   "cell_type": "markdown",
   "id": "30fa6b43",
   "metadata": {},
   "source": [
    "## Alternative Model and Variable selection\n",
    "### Ridge Regression, Lasso, Elastic Net, Huber Regression, TheilSenRegressor, RANSACRegressor"
   ]
  },
  {
   "cell_type": "code",
   "execution_count": 44,
   "id": "29d65ab8",
   "metadata": {},
   "outputs": [
    {
     "name": "stdout",
     "output_type": "stream",
     "text": [
      "[ 1.70745192  1.22809525 -1.3868207  -1.80471419  0.54908255]\n",
      "[0.016784   0.04947999 0.03467173 0.05052622 0.02885348]\n"
     ]
    }
   ],
   "source": [
    "ridge = Ridge()\n",
    "ridge.fit(X, Y[1])\n",
    "\n",
    "print(ridge.coef_)\n",
    "cv_ridge=cross_val_score(ridge, X, Y[1],cv=5)\n",
    "print(cv_ridge)"
   ]
  },
  {
   "cell_type": "code",
   "execution_count": 45,
   "id": "70fd1342",
   "metadata": {},
   "outputs": [
    {
     "name": "stdout",
     "output_type": "stream",
     "text": [
      "[ 1.16235723  1.21873766 -0.         -1.73767014  0.        ]\n",
      "[0.01689367 0.04801279 0.03876244 0.0490149  0.02950856]\n"
     ]
    }
   ],
   "source": [
    "lasso = Lasso()\n",
    "lasso.fit(X, Y[1])\n",
    "print(lasso.coef_)\n",
    "cv_lasso=cross_val_score(lasso, X, Y[1],cv=5)\n",
    "print(cv_lasso)"
   ]
  },
  {
   "cell_type": "code",
   "execution_count": 46,
   "id": "8dbc57ea",
   "metadata": {},
   "outputs": [
    {
     "name": "stdout",
     "output_type": "stream",
     "text": [
      "[ 1.52873272  1.47539603 -0.49001908 -1.60437014  0.        ]\n"
     ]
    }
   ],
   "source": [
    "elas = ElasticNet(random_state=437)\n",
    "elas.fit(X_train, y_train)\n",
    "print(elas.coef_)"
   ]
  },
  {
   "cell_type": "code",
   "execution_count": 47,
   "id": "e3781831",
   "metadata": {},
   "outputs": [
    {
     "name": "stdout",
     "output_type": "stream",
     "text": [
      "[ 1.70372613  1.39236792 -1.00531939 -1.80482835]\n"
     ]
    }
   ],
   "source": [
    "X1=X[['0','1', '2', '3']]\n",
    "# Fit the regressor using the training data\n",
    "reg = LinearRegression()\n",
    "reg.fit(X1, Y[1])\n",
    "print(reg.coef_)\n"
   ]
  },
  {
   "cell_type": "code",
   "execution_count": 48,
   "id": "41601af6",
   "metadata": {},
   "outputs": [
    {
     "name": "stdout",
     "output_type": "stream",
     "text": [
      "[0.01659771 0.04964673 0.03458194 0.05071205 0.02873103]\n"
     ]
    }
   ],
   "source": [
    "cv=cross_val_score(reg, X1, Y[1],cv=5)\n",
    "print(cv)\n"
   ]
  },
  {
   "cell_type": "markdown",
   "id": "2c629960",
   "metadata": {},
   "source": [
    "Cross validation scores above show that linear models have very poor performance in explaining and forecasting this data. "
   ]
  },
  {
   "cell_type": "markdown",
   "id": "ab61c6f1",
   "metadata": {},
   "source": [
    "### Question 3: Standard linear models are often inadequate in practical forecasting applications if the unobservable error terms (the noise) are non-spherical and/or heavy tailed. Can you explain why? In light of this consideration can you improve the modeling from (2)?"
   ]
  },
  {
   "cell_type": "markdown",
   "id": "0259c6da",
   "metadata": {},
   "source": [
    "### The linear regression models make a set of assumptions about the underlying data. One of the most important assumptions is that the unobservable error is normally distributed with zero mean and constant variance. If the normality condition is not satisfied, an alternative distribution assumption should be made. However, linear regression will work even with heavy tails, but as shown in the models above, it performs quite poorly. "
   ]
  },
  {
   "cell_type": "markdown",
   "id": "2e18490a",
   "metadata": {},
   "source": [
    "### Question 4:4.\tEvaluate the quality of your models and of their parameter estimates. Which one produces the best forecast? Interpret why."
   ]
  },
  {
   "cell_type": "code",
   "execution_count": 49,
   "id": "28ae8892",
   "metadata": {},
   "outputs": [],
   "source": [
    "## Huber regressor \n",
    "from sklearn.linear_model import HuberRegressor"
   ]
  },
  {
   "cell_type": "code",
   "execution_count": 50,
   "id": "8748f368",
   "metadata": {},
   "outputs": [
    {
     "name": "stdout",
     "output_type": "stream",
     "text": [
      "[0.01974309 0.04954288 0.03688772 0.05006634 0.029501  ]\n"
     ]
    }
   ],
   "source": [
    "huber = HuberRegressor().fit(X, Y[1])\n",
    "cv=cross_val_score(huber, X, Y[1],cv=5)\n",
    "print(cv)"
   ]
  },
  {
   "cell_type": "code",
   "execution_count": 51,
   "id": "b1d67436",
   "metadata": {},
   "outputs": [
    {
     "name": "stdout",
     "output_type": "stream",
     "text": [
      "[0.01967411 0.04458335 0.03730033 0.04816173 0.02906143]\n"
     ]
    }
   ],
   "source": [
    "from sklearn.linear_model import TheilSenRegressor\n",
    "reg = TheilSenRegressor(random_state=0).fit(X, Y[1])\n",
    "cv=cross_val_score(reg, X, Y[1],cv=5)\n",
    "print(cv)"
   ]
  },
  {
   "cell_type": "code",
   "execution_count": 52,
   "id": "2a9c230e",
   "metadata": {},
   "outputs": [
    {
     "name": "stdout",
     "output_type": "stream",
     "text": [
      "[ 0.01594118  0.00919533 -0.41818474  0.00485922 -0.02699544]\n"
     ]
    }
   ],
   "source": [
    "from sklearn.linear_model import SGDRegressor\n",
    "sgd=SGDRegressor(max_iter=500).fit(X, Y[1])\n",
    "cv=cross_val_score(sgd, X, Y[1],cv=5)\n",
    "print(cv)"
   ]
  },
  {
   "cell_type": "code",
   "execution_count": 53,
   "id": "5029ea53",
   "metadata": {},
   "outputs": [
    {
     "name": "stdout",
     "output_type": "stream",
     "text": [
      "[0.02199365 0.03704482 0.03598184 0.03952995 0.01886597]\n"
     ]
    }
   ],
   "source": [
    "from sklearn import svm\n",
    "regr = svm.SVR()\n",
    "regr.fit(X, Y[1])\n",
    "cv=cross_val_score(regr, X, Y[1],cv=5)\n",
    "print(cv)"
   ]
  },
  {
   "cell_type": "code",
   "execution_count": 54,
   "id": "db673c1a",
   "metadata": {},
   "outputs": [
    {
     "name": "stdout",
     "output_type": "stream",
     "text": [
      "[-0.02247978 -0.3741577  -0.10276949 -0.10299021 -0.24108787]\n"
     ]
    }
   ],
   "source": [
    "from sklearn.linear_model import RANSACRegressor\n",
    "reg = RANSACRegressor(random_state=42)\n",
    "reg.fit(X, Y[1])\n",
    "cv=cross_val_score(reg, X, Y[1],cv=5)\n",
    "print(cv)"
   ]
  },
  {
   "cell_type": "code",
   "execution_count": 55,
   "id": "ce3ced42",
   "metadata": {},
   "outputs": [
    {
     "name": "stdout",
     "output_type": "stream",
     "text": [
      "[-0.02247978 -0.3741577  -0.10276949 -0.10299021 -0.24108787]\n"
     ]
    }
   ],
   "source": [
    "reg = RANSACRegressor(random_state=42)\n",
    "reg.fit(X1, Y[1])\n",
    "cv=cross_val_score(reg, X, Y[1],cv=5)\n",
    "print(cv)"
   ]
  },
  {
   "cell_type": "markdown",
   "id": "cb2626dc",
   "metadata": {},
   "source": [
    "### Conclusion"
   ]
  },
  {
   "cell_type": "markdown",
   "id": "b8242209",
   "metadata": {},
   "source": [
    "###  The $R^2$ and cross-validation scores are used to evaluate the model performance. The chosen models have poor performance and need to produce better forecasts. The robust models, such as support vector machines, did not perform well. The models do not predict the model well because data was generated through a specific model, making modeling assumptions case-dependent. There might be two underlying causes: variable and model selection. Endogenous variable Y has no linear relationship with exogenous variables except in the fourth column. I would recommend using tree-based models, and maybe they will perform better."
   ]
  },
  {
   "cell_type": "code",
   "execution_count": null,
   "id": "03079720",
   "metadata": {},
   "outputs": [],
   "source": []
  }
 ],
 "metadata": {
  "kernelspec": {
   "display_name": "Python 3",
   "language": "python",
   "name": "python3"
  },
  "language_info": {
   "codemirror_mode": {
    "name": "ipython",
    "version": 3
   },
   "file_extension": ".py",
   "mimetype": "text/x-python",
   "name": "python",
   "nbconvert_exporter": "python",
   "pygments_lexer": "ipython3",
   "version": "3.8.8"
  }
 },
 "nbformat": 4,
 "nbformat_minor": 5
}
